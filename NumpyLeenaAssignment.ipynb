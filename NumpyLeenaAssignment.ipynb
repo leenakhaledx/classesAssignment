{
 "cells": [
  {
   "cell_type": "code",
   "execution_count": 15,
   "id": "4bd9d5c4-5114-4ed5-9e34-d3ed35107000",
   "metadata": {},
   "outputs": [],
   "source": [
    "# 1-Import\n",
    "import numpy as np"
   ]
  },
  {
   "cell_type": "code",
   "execution_count": 165,
   "id": "0c55442e-3cd7-4c17-8110-8e22fa3bcd78",
   "metadata": {},
   "outputs": [
    {
     "data": {
      "text/plain": [
       "array([[1, 1, 1, 1, 1],\n",
       "       [1, 0, 0, 0, 1],\n",
       "       [1, 0, 0, 0, 1],\n",
       "       [1, 0, 0, 0, 1],\n",
       "       [1, 1, 1, 1, 1]])"
      ]
     },
     "execution_count": 165,
     "metadata": {},
     "output_type": "execute_result"
    }
   ],
   "source": [
    "# 2- Create a numpy 5X5 matrix with ones at the borders & zeros inside.\n",
    "s=np.zeros((5,5))\n",
    "s[0,:]=1\n",
    "s[4,:]=1\n",
    "s[:,4]=1\n",
    "s[:,0]=1\n",
    "s.astype(int)"
   ]
  },
  {
   "cell_type": "code",
   "execution_count": 167,
   "id": "0d85dee5-a41e-4f44-b457-88bb2876a806",
   "metadata": {},
   "outputs": [
    {
     "name": "stdout",
     "output_type": "stream",
     "text": [
      "[[1 3 3 3 2]\n",
      " [3 1 3 2 3]\n",
      " [3 3 2 3 3]\n",
      " [3 2 3 1 3]\n",
      " [2 3 3 3 1]]\n"
     ]
    }
   ],
   "source": [
    "#3-Create a 5X5 matrix where the first diagonal = 1, while the second diagonal = 2, while other values=3.\n",
    "\n",
    "matrix = np.full((5, 5), 3, dtype=int)\n",
    "\n",
    "for i in range(5):\n",
    "    matrix[i, i] = 1\n",
    "\n",
    "for i in range(5):\n",
    "    matrix[i, 4 - i] = 2\n",
    "\n",
    "print(matrix)\n"
   ]
  },
  {
   "cell_type": "code",
   "execution_count": 208,
   "id": "d745d37c-8706-4f3a-bf19-375cd725d7e7",
   "metadata": {},
   "outputs": [],
   "source": [
    "# 4- Consider representing parameters & biases of  the following system of linear algebra using matrices & Vectors:\n",
    "# 5x1 + 3x2 = 20\n",
    "# 3x1 - 6x2 =10\n",
    "\n",
    "\n",
    "# Coefficient matrix A\n",
    "A = np.array([[5, 3],\n",
    "              [3, -6]])\n",
    "\n",
    "# Constant vector B\n",
    "B = np.array([20, 10])\n",
    "C = np.array([\"X1\",\"X2\"])\n",
    "\n",
    "# Solve for X (x1, x2)\n",
    "#B=A.dot(C)\n",
    "\n"
   ]
  },
  {
   "cell_type": "code",
   "execution_count": 218,
   "id": "74429a24-7708-4e49-87eb-2cdd1276c4f6",
   "metadata": {},
   "outputs": [
    {
     "data": {
      "text/plain": [
       "array([[ 5,  3],\n",
       "       [ 3, -6],\n",
       "       [ 1,  4],\n",
       "       [ 7, -8]])"
      ]
     },
     "execution_count": 218,
     "metadata": {},
     "output_type": "execute_result"
    }
   ],
   "source": [
    "#5- Create two matrices with any values you like and stack them vertically\n",
    "A = np.array([[5, 3],\n",
    "              [3, -6]])\n",
    "\n",
    "B = np.array([[1, 4],\n",
    "              [7, -8]])\n",
    "C=np.append(A,B,axis=0)\n",
    "C"
   ]
  },
  {
   "cell_type": "code",
   "execution_count": null,
   "id": "0f3bfd3d-ed4b-4d87-9bbd-034eef4ced35",
   "metadata": {},
   "outputs": [],
   "source": []
  },
  {
   "cell_type": "code",
   "execution_count": null,
   "id": "2773bd21-586d-460c-9440-24630a962f6d",
   "metadata": {},
   "outputs": [],
   "source": []
  },
  {
   "cell_type": "code",
   "execution_count": null,
   "id": "de14409f-9e68-4a7f-a8e2-a6e7276ab5fa",
   "metadata": {},
   "outputs": [],
   "source": []
  },
  {
   "cell_type": "code",
   "execution_count": null,
   "id": "01b24504-6e32-4499-ad1b-0432c563e23c",
   "metadata": {},
   "outputs": [],
   "source": []
  },
  {
   "cell_type": "code",
   "execution_count": null,
   "id": "601ca240-1d10-4b98-b8c2-8550e3e5968b",
   "metadata": {},
   "outputs": [],
   "source": []
  },
  {
   "cell_type": "code",
   "execution_count": null,
   "id": "bb661c00-5c7c-4d08-b11e-b941fe3fde9a",
   "metadata": {},
   "outputs": [],
   "source": []
  },
  {
   "cell_type": "code",
   "execution_count": null,
   "id": "17b1478c-9697-4c84-be7c-4e66cd8fe165",
   "metadata": {},
   "outputs": [],
   "source": []
  },
  {
   "cell_type": "code",
   "execution_count": null,
   "id": "7143b24e-2977-498b-8d9a-3af40cd4b40f",
   "metadata": {},
   "outputs": [],
   "source": []
  },
  {
   "cell_type": "code",
   "execution_count": null,
   "id": "89f49595-ea71-4f89-a36f-a5e74dbe5468",
   "metadata": {},
   "outputs": [],
   "source": []
  },
  {
   "cell_type": "code",
   "execution_count": null,
   "id": "ed8a811a-2df4-489b-823f-3a19eea1b2ea",
   "metadata": {},
   "outputs": [],
   "source": []
  }
 ],
 "metadata": {
  "kernelspec": {
   "display_name": "Python 3 (ipykernel)",
   "language": "python",
   "name": "python3"
  },
  "language_info": {
   "codemirror_mode": {
    "name": "ipython",
    "version": 3
   },
   "file_extension": ".py",
   "mimetype": "text/x-python",
   "name": "python",
   "nbconvert_exporter": "python",
   "pygments_lexer": "ipython3",
   "version": "3.12.7"
  }
 },
 "nbformat": 4,
 "nbformat_minor": 5
}
